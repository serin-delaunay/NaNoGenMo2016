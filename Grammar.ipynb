{
 "cells": [
  {
   "cell_type": "code",
   "execution_count": 1,
   "metadata": {
    "collapsed": true
   },
   "outputs": [],
   "source": [
    "import re\n",
    "from itertools import accumulate\n",
    "from collections import namedtuple\n",
    "import random"
   ]
  },
  {
   "cell_type": "code",
   "execution_count": 2,
   "metadata": {
    "collapsed": true
   },
   "outputs": [],
   "source": [
    "Token = namedtuple(\"Token\", [\"text\", \"is_nonterminal\"])\n",
    "Option = namedtuple(\"Option\", [\"tokens\", \"weight\"])\n",
    "Node = namedtuple(\"Node\", [\"nonterminal\", \"text\"])"
   ]
  },
  {
   "cell_type": "code",
   "execution_count": 3,
   "metadata": {
    "collapsed": true
   },
   "outputs": [],
   "source": [
    "class Production:\n",
    "    def __init__(self, prods):\n",
    "        self.options = []\n",
    "        if isinstance(prods, list):\n",
    "            for prod in prods:\n",
    "                self.options.append(self.make_option(prod))\n",
    "        else:\n",
    "            self.options.append(self.make_option(prods))\n",
    "    @classmethod\n",
    "    def make_option(cls, prod):\n",
    "        if isinstance(prod, tuple):\n",
    "            s, weight = prod\n",
    "        else:\n",
    "            s, weight = prod, 1.0\n",
    "        return Option(cls.parse_option(s), weight)\n",
    "    @classmethod\n",
    "    def parse_option(cls, option):\n",
    "        pattern = \"(?<!\\\\\\\\)<[\\w]+>\"\n",
    "        nonterminals = re.findall(pattern, option)\n",
    "        terminals = re.split(pattern, option)\n",
    "        r = []\n",
    "        for t, nt in zip(terminals, nonterminals):\n",
    "            if(t != ''):\n",
    "                r.append(Token(t, False))\n",
    "            r.append(Token(nt[1:-1], True))\n",
    "        t = terminals[-1]\n",
    "        if(t != ''):\n",
    "            r.append(Token(t, False))\n",
    "        return r\n",
    "    def __repr__(self):\n",
    "        return '\\n'.join([\"{0}: \".format(option.weight) +\n",
    "                          ''.join(['<{0}>'.format(x.text) if x.is_nonterminal else x.text\n",
    "                                   for x in option.tokens])\n",
    "                          for option in self.options])\n",
    "    def expand_nonterminal(self, grammar, nonterminal, tree=False):\n",
    "        text = grammar[nonterminal.text].generate(grammar, tree)\n",
    "        if tree:\n",
    "            return Node(nonterminal.text, text)\n",
    "        else:\n",
    "            return text\n",
    "    def generate(self, grammar, tree=False):\n",
    "        if len(self.options) > 1:\n",
    "            total_weight = sum(o.weight for o in self.options)\n",
    "            r = random.random()*total_weight\n",
    "            for o, x in zip(self.options, accumulate(o.weight for o in self.options)):\n",
    "                if x > r:\n",
    "                    option = o\n",
    "                    break\n",
    "        else:\n",
    "            option = self.options[0]\n",
    "        output = (self.expand_nonterminal(grammar, x, tree)\n",
    "                  if x.is_nonterminal else x.text\n",
    "                  for x in option.tokens)\n",
    "        if tree:\n",
    "            return list(output)\n",
    "        else:\n",
    "            return ''.join(output)"
   ]
  },
  {
   "cell_type": "code",
   "execution_count": 4,
   "metadata": {
    "collapsed": true
   },
   "outputs": [],
   "source": [
    "def grammify(*args):\n",
    "    d = {}\n",
    "    for g in args:\n",
    "        for (k,v) in g.items():\n",
    "            d[k] = Production(v)\n",
    "    return d"
   ]
  },
  {
   "cell_type": "code",
   "execution_count": 5,
   "metadata": {
    "collapsed": true
   },
   "outputs": [],
   "source": [
    "def generate_tree(start, *args):\n",
    "    return Production(start).generate(grammify(*args), True)"
   ]
  },
  {
   "cell_type": "code",
   "execution_count": 6,
   "metadata": {
    "collapsed": true
   },
   "outputs": [],
   "source": [
    "class Grammar:\n",
    "    def __init__(self, *args):\n",
    "        self._data = {}\n",
    "        for g in args:\n",
    "            self.add_entries(g)\n",
    "    def add_entries(self, g):\n",
    "        for (k,v) in g.items():\n",
    "            self._data[k] = Production(v)\n",
    "    def __getitem__(self, k):\n",
    "        return self._data[k]\n",
    "    def generate(self, start, tree=False):\n",
    "        return Production(start).generate(self, tree)"
   ]
  }
 ],
 "metadata": {
  "kernelspec": {
   "display_name": "Python [conda root]",
   "language": "python",
   "name": "conda-root-py"
  },
  "language_info": {
   "codemirror_mode": {
    "name": "ipython",
    "version": 3
   },
   "file_extension": ".py",
   "mimetype": "text/x-python",
   "name": "python",
   "nbconvert_exporter": "python",
   "pygments_lexer": "ipython3",
   "version": "3.5.2"
  }
 },
 "nbformat": 4,
 "nbformat_minor": 1
}
