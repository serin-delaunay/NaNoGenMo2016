{
 "cells": [
  {
   "cell_type": "code",
   "execution_count": null,
   "metadata": {
    "collapsed": true
   },
   "outputs": [],
   "source": [
    "from itertools import repeat"
   ]
  },
  {
   "cell_type": "code",
   "execution_count": null,
   "metadata": {
    "collapsed": true
   },
   "outputs": [],
   "source": [
    "def accidentally_many_spaces(text, generator=False):\n",
    "    paras = text.splitlines()\n",
    "    if generator:\n",
    "        return accidentally_many_spaces_generator(paras)\n",
    "    else:\n",
    "        return accidentally_many_spaces_recursive(paras)"
   ]
  },
  {
   "cell_type": "code",
   "execution_count": null,
   "metadata": {
    "collapsed": true
   },
   "outputs": [],
   "source": [
    "def accidentally_many_spaces_recursive(paras):\n",
    "    r = ''\n",
    "    for para in reversed(text.splitlines()):\n",
    "        r = para + ' ' + ' '.join(r)\n",
    "    return r"
   ]
  },
  {
   "cell_type": "code",
   "execution_count": null,
   "metadata": {
    "collapsed": true
   },
   "outputs": [],
   "source": [
    "def accidentally_many_spaces_generator(paras):\n",
    "    yield from paras[0]\n",
    "    for i, para in enumerate(paras[1:]):\n",
    "        for char in para:\n",
    "            yield from repeat(' ',(2<<i)-1)\n",
    "            yield char"
   ]
  },
  {
   "cell_type": "code",
   "execution_count": null,
   "metadata": {
    "collapsed": false
   },
   "outputs": [],
   "source": [
    "if __name__ == '__main__':\n",
    "    import sys\n",
    "    args = sys.argv[1:]\n",
    "    generator = False\n",
    "    if '-g' in args:\n",
    "        args.remove('-g')\n",
    "        generator = True\n",
    "    try:\n",
    "        in_fn, out_fn = args\n",
    "    except ValueError:\n",
    "        print('usage: python AccidentallyManySpaces.py in.txt out.txt [-g]')\n",
    "        raise\n",
    "    with open(in_fn,'r',encoding='utf-8') as in_file:\n",
    "        text = in_file.read()\n",
    "    with open(out_fn,'w',encoding='utf-8') as out_file:\n",
    "        if generator:\n",
    "            for char in accidentally_many_spaces(text, True):\n",
    "                out_file.write(char)\n",
    "        else:\n",
    "            paras = paras = [x+' ' for x in text.splitlines()]\n",
    "            out_file.write(accidentally_many_spaces_recursive(paras))"
   ]
  }
 ],
 "metadata": {
  "anaconda-cloud": {},
  "kernelspec": {
   "display_name": "Python [default]",
   "language": "python",
   "name": "python3"
  },
  "language_info": {
   "codemirror_mode": {
    "name": "ipython",
    "version": 3
   },
   "file_extension": ".py",
   "mimetype": "text/x-python",
   "name": "python",
   "nbconvert_exporter": "python",
   "pygments_lexer": "ipython3",
   "version": "3.5.2"
  }
 },
 "nbformat": 4,
 "nbformat_minor": 1
}
