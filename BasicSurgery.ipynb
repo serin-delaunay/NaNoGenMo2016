{
 "cells": [
  {
   "cell_type": "code",
   "execution_count": 1,
   "metadata": {
    "collapsed": false
   },
   "outputs": [],
   "source": [
    "%load_ext autoreload"
   ]
  },
  {
   "cell_type": "code",
   "execution_count": 2,
   "metadata": {
    "collapsed": true
   },
   "outputs": [],
   "source": [
    "%aimport Planner"
   ]
  },
  {
   "cell_type": "code",
   "execution_count": 3,
   "metadata": {
    "collapsed": true
   },
   "outputs": [],
   "source": [
    "%autoreload"
   ]
  },
  {
   "cell_type": "code",
   "execution_count": 4,
   "metadata": {
    "collapsed": true
   },
   "outputs": [],
   "source": [
    "import pyddl"
   ]
  },
  {
   "cell_type": "code",
   "execution_count": 5,
   "metadata": {
    "collapsed": false
   },
   "outputs": [],
   "source": [
    "from Planner import Predicate, DualPredicate, Action, Problem"
   ]
  },
  {
   "cell_type": "code",
   "execution_count": 6,
   "metadata": {
    "collapsed": false
   },
   "outputs": [],
   "source": [
    "skull_open = DualPredicate('open', 'closed')\n",
    "empty = Predicate('empty')\n",
    "on_ice = Predicate('on_ice')\n",
    "brain_in = Predicate('brain_in')"
   ]
  },
  {
   "cell_type": "code",
   "execution_count": 7,
   "metadata": {
    "collapsed": false
   },
   "outputs": [],
   "source": [
    "open_skull = Action(name='open_skull',\n",
    "                    parameters=[('body', 'b')],\n",
    "                    preconditions=[skull_open('b').neg()],\n",
    "                    effects=[skull_open('b')])"
   ]
  },
  {
   "cell_type": "code",
   "execution_count": 8,
   "metadata": {
    "collapsed": true
   },
   "outputs": [],
   "source": [
    "close_skull = Action(name='close_skull',\n",
    "                    parameters=[('body', 'b')],\n",
    "                    preconditions=[skull_open('b')],\n",
    "                    effects=[skull_open('b').neg()])"
   ]
  },
  {
   "cell_type": "code",
   "execution_count": 9,
   "metadata": {
    "collapsed": true
   },
   "outputs": [],
   "source": [
    "remove_brain = Action(name='remove_brain',\n",
    "                      parameters=(('brain', 'b'),\n",
    "                                  ('body', 'from')),\n",
    "                      preconditions=(skull_open('from'),\n",
    "                                     brain_in('b', 'from'),\n",
    "                                     on_ice('b').neg(),\n",
    "                                     empty('from').neg()),\n",
    "                      effects=(brain_in('b', 'from').neg(),\n",
    "                               empty('from'),\n",
    "                               on_ice('b')))"
   ]
  },
  {
   "cell_type": "code",
   "execution_count": 10,
   "metadata": {
    "collapsed": true
   },
   "outputs": [],
   "source": [
    "replace_brain = Action(name='replace_brain',\n",
    "                      parameters=(('brain', 'b'),\n",
    "                                  ('body', 'from')),\n",
    "                      preconditions=(skull_open('from'),\n",
    "                                     brain_in('b', 'from').neg(),\n",
    "                                     on_ice('b'),\n",
    "                                     empty('from')),\n",
    "                      effects=(brain_in('b', 'from'),\n",
    "                               empty('from').neg(),\n",
    "                               on_ice('b').neg()))"
   ]
  },
  {
   "cell_type": "code",
   "execution_count": 11,
   "metadata": {
    "collapsed": false
   },
   "outputs": [],
   "source": [
    "brain_surgery = pyddl.Domain(actions=(open_skull,\n",
    "                                      close_skull,\n",
    "                                      remove_brain,\n",
    "                                      replace_brain))"
   ]
  },
  {
   "cell_type": "code",
   "execution_count": 12,
   "metadata": {
    "collapsed": true
   },
   "outputs": [],
   "source": [
    "two_brain_swap = Problem(domain=brain_surgery,\n",
    "                         objects={'brain': (1, 2),\n",
    "                                  'body': (1, 2)},\n",
    "                         init=[brain_in(2,2),\n",
    "                               brain_in(1,1),\n",
    "                               skull_open(1).neg(),\n",
    "                               skull_open(2).neg()],\n",
    "                         goal=[brain_in(1,2),\n",
    "                               brain_in(2,1),\n",
    "                               skull_open(1).neg(),\n",
    "                               skull_open(2).neg()])"
   ]
  },
  {
   "cell_type": "code",
   "execution_count": 13,
   "metadata": {
    "collapsed": false
   },
   "outputs": [
    {
     "name": "stdout",
     "output_type": "stream",
     "text": [
      "States Explored: 44\n",
      "Time per state: 0.159 ms\n",
      "Plan length: 8\n"
     ]
    }
   ],
   "source": [
    "tbs_plan = pyddl.planner(two_brain_swap)"
   ]
  },
  {
   "cell_type": "code",
   "execution_count": 14,
   "metadata": {
    "collapsed": false
   },
   "outputs": [
    {
     "name": "stdout",
     "output_type": "stream",
     "text": [
      "open_skull(2)\n",
      "open_skull(1)\n",
      "remove_brain(1, 1)\n",
      "remove_brain(2, 2)\n",
      "replace_brain(1, 2)\n",
      "replace_brain(2, 1)\n",
      "close_skull(1)\n",
      "close_skull(2)\n"
     ]
    }
   ],
   "source": [
    "for action in tbs_plan:\n",
    "    print(action)"
   ]
  }
 ],
 "metadata": {
  "kernelspec": {
   "display_name": "Python [conda root]",
   "language": "python",
   "name": "conda-root-py"
  },
  "language_info": {
   "codemirror_mode": {
    "name": "ipython",
    "version": 3
   },
   "file_extension": ".py",
   "mimetype": "text/x-python",
   "name": "python",
   "nbconvert_exporter": "python",
   "pygments_lexer": "ipython3",
   "version": "3.5.2"
  }
 },
 "nbformat": 4,
 "nbformat_minor": 1
}
