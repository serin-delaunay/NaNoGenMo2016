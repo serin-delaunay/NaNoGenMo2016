{
 "cells": [
  {
   "cell_type": "code",
   "execution_count": 1,
   "metadata": {
    "collapsed": false
   },
   "outputs": [],
   "source": [
    "%load_ext autoreload"
   ]
  },
  {
   "cell_type": "code",
   "execution_count": 2,
   "metadata": {
    "collapsed": true
   },
   "outputs": [],
   "source": [
    "%aimport Planner"
   ]
  },
  {
   "cell_type": "code",
   "execution_count": 3,
   "metadata": {
    "collapsed": true
   },
   "outputs": [],
   "source": [
    "%autoreload"
   ]
  },
  {
   "cell_type": "code",
   "execution_count": 4,
   "metadata": {
    "collapsed": true
   },
   "outputs": [],
   "source": [
    "import pyddl"
   ]
  },
  {
   "cell_type": "code",
   "execution_count": 5,
   "metadata": {
    "collapsed": false
   },
   "outputs": [],
   "source": [
    "from Planner import Predicate, DualPredicate, Action, Problem"
   ]
  },
  {
   "cell_type": "code",
   "execution_count": 6,
   "metadata": {
    "collapsed": false
   },
   "outputs": [],
   "source": [
    "from tracery import Grammar, modifiers"
   ]
  },
  {
   "cell_type": "code",
   "execution_count": 7,
   "metadata": {
    "collapsed": true
   },
   "outputs": [],
   "source": [
    "predicates = {}"
   ]
  },
  {
   "cell_type": "code",
   "execution_count": 8,
   "metadata": {
    "collapsed": false
   },
   "outputs": [],
   "source": [
    "skull_open = DualPredicate('open', 'closed', ('body_id',))\n",
    "predicates['open'] = skull_open\n",
    "predicates['closed'] = skull_open.neg()\n",
    "empty = Predicate('empty', ('body_id',))\n",
    "predicates['empty'] = empty\n",
    "on_ice = Predicate('on_ice', ('brain_id',))\n",
    "predicates['on_ice'] = on_ice\n",
    "brain_in = Predicate('brain_in', ('brain_id','body_id'))\n",
    "predicates['brain_in'] = brain_in"
   ]
  },
  {
   "cell_type": "code",
   "execution_count": 9,
   "metadata": {
    "collapsed": false
   },
   "outputs": [],
   "source": [
    "open_skull = Action(\n",
    "    name='open_skull',\n",
    "    parameters=[('body', 'body_id')],\n",
    "    preconditions=[skull_open('body_id').neg()],\n",
    "    effects=[skull_open('body_id')])\n",
    "predicates['open_skull'] = open_skull.predicate()"
   ]
  },
  {
   "cell_type": "code",
   "execution_count": 10,
   "metadata": {
    "collapsed": true
   },
   "outputs": [],
   "source": [
    "close_skull = Action(\n",
    "    name='close_skull',\n",
    "    parameters=[('body', 'body_id')],\n",
    "    preconditions=[skull_open('body_id')],\n",
    "    effects=[skull_open('body_id').neg()])\n",
    "predicates['close_skull'] = close_skull.predicate()"
   ]
  },
  {
   "cell_type": "code",
   "execution_count": 11,
   "metadata": {
    "collapsed": true
   },
   "outputs": [],
   "source": [
    "remove_brain = Action(\n",
    "    name='remove_brain',\n",
    "    parameters=(('brain', 'brain_id'),\n",
    "                ('body', 'body_id')),\n",
    "    preconditions=(skull_open('body_id'),\n",
    "                   brain_in('brain_id', 'body_id'),\n",
    "                   on_ice('brain_id').neg(),\n",
    "                   empty('body_id').neg()),\n",
    "    effects=(brain_in('brain_id', 'body_id').neg(),\n",
    "             empty('body_id'),\n",
    "             on_ice('brain_id')))\n",
    "predicates['remove_brain'] = remove_brain.predicate()"
   ]
  },
  {
   "cell_type": "code",
   "execution_count": 12,
   "metadata": {
    "collapsed": true
   },
   "outputs": [],
   "source": [
    "replace_brain = Action(\n",
    "    name='replace_brain',\n",
    "    parameters=(('brain', 'brain_id'),\n",
    "                ('body', 'body_id')),\n",
    "    preconditions=(skull_open('body_id'),\n",
    "                   brain_in('brain_id', 'body_id').neg(),\n",
    "                   on_ice('brain_id'),\n",
    "                   empty('body_id')),\n",
    "    effects=(brain_in('brain_id', 'body_id'),\n",
    "             empty('body_id').neg(),\n",
    "             on_ice('brain_id').neg()))\n",
    "predicates['replace_brain'] = replace_brain.predicate()"
   ]
  },
  {
   "cell_type": "code",
   "execution_count": 13,
   "metadata": {
    "collapsed": false
   },
   "outputs": [],
   "source": [
    "brain_surgery = pyddl.Domain(actions=(open_skull,\n",
    "                                      close_skull,\n",
    "                                      remove_brain,\n",
    "                                      replace_brain))"
   ]
  },
  {
   "cell_type": "code",
   "execution_count": 14,
   "metadata": {
    "collapsed": false
   },
   "outputs": [],
   "source": [
    "init_state = [brain_in('2','2'),\n",
    "              brain_in('1','1'),\n",
    "              skull_open('1').neg(),\n",
    "              skull_open('2').neg()]\n",
    "goal_state=[brain_in('1','2'),\n",
    "            brain_in('2','1'),\n",
    "            skull_open('1').neg(),\n",
    "            skull_open('2').neg()]\n",
    "subject_ids = ('1', '2')\n",
    "objects={'brain': subject_ids,\n",
    "         'body': subject_ids}"
   ]
  },
  {
   "cell_type": "code",
   "execution_count": 15,
   "metadata": {
    "collapsed": false
   },
   "outputs": [],
   "source": [
    "two_brain_swap = Problem(domain=brain_surgery,\n",
    "                         objects=objects,\n",
    "                         init=init_state,\n",
    "                         goal=goal_state)"
   ]
  },
  {
   "cell_type": "code",
   "execution_count": 16,
   "metadata": {
    "collapsed": true
   },
   "outputs": [],
   "source": [
    "def brain_surgery_heuristic(state):\n",
    "    r = 0.0\n",
    "    for p in state.predicates:\n",
    "        if(p[0] == 'open'):\n",
    "            r += 0.0#0.1\n",
    "        elif(p[0] == 'on_ice'):\n",
    "            r += 0.4\n",
    "        elif(p[0] == 'empty'):\n",
    "            r += 0.4\n",
    "    return r"
   ]
  },
  {
   "cell_type": "code",
   "execution_count": 17,
   "metadata": {
    "collapsed": false
   },
   "outputs": [
    {
     "name": "stdout",
     "output_type": "stream",
     "text": [
      "States Explored: 44\n",
      "Time per state: 0.159 ms\n",
      "Plan length: 8\n"
     ]
    }
   ],
   "source": [
    "#tbs_plan = pyddl.planner(two_brain_swap, heuristic=brain_surgery_heuristic)\n",
    "tbs_plan = pyddl.planner(two_brain_swap)"
   ]
  },
  {
   "cell_type": "code",
   "execution_count": 18,
   "metadata": {
    "collapsed": false
   },
   "outputs": [
    {
     "name": "stdout",
     "output_type": "stream",
     "text": [
      "open_skull(1)\n",
      "open_skull(2)\n",
      "remove_brain(1, 1)\n",
      "remove_brain(2, 2)\n",
      "replace_brain(1, 2)\n",
      "close_skull(2)\n",
      "replace_brain(2, 1)\n",
      "close_skull(1)\n"
     ]
    }
   ],
   "source": [
    "for action in tbs_plan:\n",
    "    print(action)"
   ]
  },
  {
   "cell_type": "code",
   "execution_count": 19,
   "metadata": {
    "collapsed": true
   },
   "outputs": [],
   "source": [
    "def possessive(text, *params):\n",
    "    return text+\"'s\"\n",
    "modifiers.base_english['possessive'] = possessive"
   ]
  },
  {
   "cell_type": "code",
   "execution_count": 20,
   "metadata": {
    "collapsed": true
   },
   "outputs": [],
   "source": [
    "g = Grammar({\n",
    "        'open':'#body_id.possessive# cranium is open and the brain is exposed',\n",
    "        'closed':'#body_id.possessive# cranium is either intact, or closed and repaired',\n",
    "        'brain_in':'#brain_id.possessive# brain is in #body_id.possessive# head',\n",
    "        'empty':'#body_id.possessive# head does not contain a brain',\n",
    "        'on_ice':'#body_id.possessive# brain is stored in an ice box',\n",
    "        'open_skull':'open #body_id.possessive# skull carefully using a chainsaw',\n",
    "        'close_skull':'replace the removed section of #body_id.possessive# skull with a sterilised metal plate and suture the skin',\n",
    "        'remove_brain':'disconnect #brain_id.possessive# brain from peripheral nervous system connections and remove it from #body_id.possessive# skull',\n",
    "        'replace_brain':'apply nerve growth factor to connection sites in #body_id.possessive# empty skull and #brain_id.possessive# brain, then place #brain_id.possessive# brain in #body_id.possessive# body'\n",
    "    })\n",
    "g.add_modifiers(modifiers.base_english)"
   ]
  },
  {
   "cell_type": "code",
   "execution_count": 21,
   "metadata": {
    "collapsed": true
   },
   "outputs": [],
   "source": [
    "for i, subject_id in enumerate(subject_ids):\n",
    "    g.push_rules(subject_id,'subject {0}'.format(chr(ord('A')+int(i))))"
   ]
  },
  {
   "cell_type": "code",
   "execution_count": 22,
   "metadata": {
    "collapsed": false
   },
   "outputs": [
    {
     "name": "stdout",
     "output_type": "stream",
     "text": [
      "Subject B's brain is in subject B's head.\n",
      "Subject A's brain is in subject A's head.\n",
      "Subject A's cranium is either intact, or closed and repaired.\n",
      "Subject B's cranium is either intact, or closed and repaired.\n",
      "\n",
      "Open subject A's skull carefully using a chainsaw.\n",
      "Open subject B's skull carefully using a chainsaw.\n",
      "Disconnect subject A's brain from peripheral nervous system connections and remove it from subject A's skull.\n",
      "Disconnect subject B's brain from peripheral nervous system connections and remove it from subject B's skull.\n",
      "Apply nerve growth factor to connection sites in subject B's empty skull and subject A's brain, then place subject A's brain in subject B's body.\n",
      "Replace the removed section of subject B's skull with a sterilised metal plate and suture the skin.\n",
      "Apply nerve growth factor to connection sites in subject A's empty skull and subject B's brain, then place subject B's brain in subject A's body.\n",
      "Replace the removed section of subject A's skull with a sterilised metal plate and suture the skin.\n",
      "\n",
      "Subject A's brain is in subject B's head.\n",
      "Subject B's brain is in subject A's head.\n",
      "Subject A's cranium is either intact, or closed and repaired.\n",
      "Subject B's cranium is either intact, or closed and repaired.\n"
     ]
    }
   ],
   "source": [
    "for condition in init_state:\n",
    "    print(condition.flatten(g))\n",
    "print()\n",
    "for action in tbs_plan:\n",
    "    print(predicates[action.name](*action.sig[1:]).flatten(g))\n",
    "print()\n",
    "for condition in goal_state:\n",
    "    print(condition.flatten(g))"
   ]
  }
 ],
 "metadata": {
  "kernelspec": {
   "display_name": "Python [conda root]",
   "language": "python",
   "name": "conda-root-py"
  },
  "language_info": {
   "codemirror_mode": {
    "name": "ipython",
    "version": 3
   },
   "file_extension": ".py",
   "mimetype": "text/x-python",
   "name": "python",
   "nbconvert_exporter": "python",
   "pygments_lexer": "ipython3",
   "version": "3.5.2"
  }
 },
 "nbformat": 4,
 "nbformat_minor": 1
}
