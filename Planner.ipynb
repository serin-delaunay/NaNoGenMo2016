{
 "cells": [
  {
   "cell_type": "code",
   "execution_count": 1,
   "metadata": {
    "collapsed": false
   },
   "outputs": [],
   "source": [
    "import pyddl"
   ]
  },
  {
   "cell_type": "code",
   "execution_count": 2,
   "metadata": {
    "collapsed": true
   },
   "outputs": [],
   "source": [
    "from collections import namedtuple"
   ]
  },
  {
   "cell_type": "code",
   "execution_count": 3,
   "metadata": {
    "collapsed": true
   },
   "outputs": [],
   "source": [
    "# possible things to add:\n",
    "# disjunctive goals\n",
    "# disjunctive action preconditions"
   ]
  },
  {
   "cell_type": "code",
   "execution_count": 4,
   "metadata": {
    "collapsed": false
   },
   "outputs": [],
   "source": [
    "class Predicate(namedtuple('Predicate',\n",
    "                ['name', 'arg_names'])):\n",
    "    def __call__(self, *args):\n",
    "        return GroundedPredicate(self, args)\n",
    "    def condition(self, *args):\n",
    "        return ((self.name,)+tuple(args),)\n",
    "    def effect(self, *args):\n",
    "        return ((self.name,)+tuple(args),)\n",
    "    def neg(self):\n",
    "        return NegativePredicate(self.name, self.arg_names)"
   ]
  },
  {
   "cell_type": "code",
   "execution_count": 5,
   "metadata": {
    "collapsed": false
   },
   "outputs": [],
   "source": [
    "class NegativePredicate(namedtuple('NegativePredicate',\n",
    "                                   ['name', 'arg_names'])):\n",
    "    def __call__(self, *args):\n",
    "        return GroundedPredicate(self, args)\n",
    "    def condition(self, *args):\n",
    "        return ()\n",
    "    def effect(self, *args):\n",
    "        return (pyddl.neg(self.neg().effect(*args)[0]),)\n",
    "    def neg(self):\n",
    "        return Predicate(self.name, self.arg_names)"
   ]
  },
  {
   "cell_type": "code",
   "execution_count": 6,
   "metadata": {
    "collapsed": false,
    "scrolled": false
   },
   "outputs": [],
   "source": [
    "class DualPredicate(namedtuple('DualPredicate',\n",
    "                               ['name', 'negative_name', 'arg_names'])):\n",
    "    def __call__(self, *args):\n",
    "        return GroundedPredicate(self, args)\n",
    "    def condition(self, *args):\n",
    "        return ((self.name,)+tuple(args),)\n",
    "    def effect(self, *args):\n",
    "        return (self.condition(*args)[0], pyddl.neg(self.neg().condition(*args)[0]))\n",
    "    def neg(self):\n",
    "        return DualPredicate(self.negative_name, self.name, self.arg_names)"
   ]
  },
  {
   "cell_type": "code",
   "execution_count": 7,
   "metadata": {
    "collapsed": false
   },
   "outputs": [],
   "source": [
    "class GroundedPredicate(namedtuple('GroundedPredicate',\n",
    "                                 ['predicate', 'parameters'])):\n",
    "    def condition(self):\n",
    "        return self.predicate.condition(*self.parameters)\n",
    "    def effect(self):\n",
    "        return self.predicate.effect(*self.parameters)\n",
    "    def neg(self):\n",
    "        return GroundedPredicate(self.predicate.neg(), self.parameters)\n",
    "    def translate(self):\n",
    "        # Predicate('brain_in',('brain_id','body_id'))('1','2').translate()\n",
    "        # '#[brain_id:1][body_id:2]brain_in#'\n",
    "        return '#{0}{1}#'.format(''.join(['[{0}:#{1}#]'.format(name,value)\n",
    "                                          for (name, value) in\n",
    "                                          zip(self.predicate.arg_names, self.parameters)]),\n",
    "                                 self.predicate.name)\n",
    "    def flatten(self, grammar, fmt='#{0}.capitalize#.', temp_rule='__x__'):\n",
    "        x = self.translate()\n",
    "        grammar.push_rules(temp_rule,x)\n",
    "        nonterminal = fmt.format(temp_rule)\n",
    "        r = grammar.flatten(nonterminal)\n",
    "        grammar.pop_rules(temp_rule)\n",
    "        return r"
   ]
  },
  {
   "cell_type": "code",
   "execution_count": 8,
   "metadata": {
    "collapsed": false
   },
   "outputs": [],
   "source": [
    "def Action(name, parameters=(), preconditions=(), effects=(),\n",
    "           unique=False, no_permute=False):\n",
    "    return pyddl.Action(name=name,\n",
    "                        parameters=tuple(parameters),\n",
    "                        preconditions=sum((p.condition() for p in preconditions), ()),\n",
    "                        effects=sum((e.effect() for e in effects), ()),\n",
    "                        unique=unique, no_permute=no_permute)"
   ]
  },
  {
   "cell_type": "code",
   "execution_count": 9,
   "metadata": {
    "collapsed": true
   },
   "outputs": [],
   "source": [
    "def _predicate(self):\n",
    "    return Predicate(name=self.name,\n",
    "                     arg_names=self.arg_names)\n",
    "pyddl.Action.predicate = _predicate"
   ]
  },
  {
   "cell_type": "code",
   "execution_count": 10,
   "metadata": {
    "collapsed": false
   },
   "outputs": [],
   "source": [
    "def Problem(domain, objects, init=(), goal=()):\n",
    "    return pyddl.Problem(domain=domain,\n",
    "                         objects=objects,\n",
    "                         init=sum((i.condition() for i in init), ()),\n",
    "                         goal=sum((g.condition() for g in goal), ()))"
   ]
  }
 ],
 "metadata": {
  "kernelspec": {
   "display_name": "Python [conda root]",
   "language": "python",
   "name": "conda-root-py"
  },
  "language_info": {
   "codemirror_mode": {
    "name": "ipython",
    "version": 3
   },
   "file_extension": ".py",
   "mimetype": "text/x-python",
   "name": "python",
   "nbconvert_exporter": "python",
   "pygments_lexer": "ipython3",
   "version": "3.5.2"
  }
 },
 "nbformat": 4,
 "nbformat_minor": 1
}
