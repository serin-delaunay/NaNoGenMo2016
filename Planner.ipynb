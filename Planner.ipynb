{
 "cells": [
  {
   "cell_type": "code",
   "execution_count": 1,
   "metadata": {
    "collapsed": false
   },
   "outputs": [],
   "source": [
    "import pyddl"
   ]
  },
  {
   "cell_type": "code",
   "execution_count": 2,
   "metadata": {
    "collapsed": true
   },
   "outputs": [],
   "source": [
    "from collections import namedtuple"
   ]
  },
  {
   "cell_type": "code",
   "execution_count": 3,
   "metadata": {
    "collapsed": true
   },
   "outputs": [],
   "source": [
    "# possible things to add:\n",
    "# disjunctive goals\n",
    "# disjunctive action preconditions"
   ]
  },
  {
   "cell_type": "code",
   "execution_count": 4,
   "metadata": {
    "collapsed": false
   },
   "outputs": [],
   "source": [
    "class Predicate(namedtuple('Predicate',\n",
    "                ['name'])):\n",
    "    def __call__(self, *args):\n",
    "        return GroundedPredicate(self, args)\n",
    "    def condition(self, *args):\n",
    "        return ((self.name,)+tuple(args),)\n",
    "    def effect(self, *args):\n",
    "        return ((self.name,)+tuple(args),)\n",
    "    def neg(self):\n",
    "        return NegativePredicate(self.name)"
   ]
  },
  {
   "cell_type": "code",
   "execution_count": 5,
   "metadata": {
    "collapsed": false
   },
   "outputs": [],
   "source": [
    "class NegativePredicate(namedtuple('NegativePredicate',\n",
    "                                   ['name'])):\n",
    "    def __call__(self, *args):\n",
    "        return GroundedPredicate(self, args)\n",
    "    def condition(self, *args):\n",
    "        return ()\n",
    "    def effect(self, *args):\n",
    "        return (pyddl.neg(self.neg().effect(*args)[0]),)\n",
    "    def neg(self):\n",
    "        return Predicate(self.name)"
   ]
  },
  {
   "cell_type": "code",
   "execution_count": 6,
   "metadata": {
    "collapsed": false,
    "scrolled": false
   },
   "outputs": [],
   "source": [
    "class DualPredicate(namedtuple('DualPredicate',\n",
    "                               ['name', 'negative_name'])):\n",
    "    def __call__(self, *args):\n",
    "        return GroundedPredicate(self, args)\n",
    "    def condition(self, *args):\n",
    "        return ((self.name,)+tuple(args),)\n",
    "    def effect(self, *args):\n",
    "        return (self.condition(*args)[0], pyddl.neg(self.neg().condition(*args)[0]))\n",
    "    def neg(self):\n",
    "        return DualPredicate(self.negative_name, self.name)"
   ]
  },
  {
   "cell_type": "code",
   "execution_count": 7,
   "metadata": {
    "collapsed": false
   },
   "outputs": [],
   "source": [
    "class GroundedPredicate(namedtuple('GroundedPredicate',\n",
    "                                 ['predicate', 'parameters'])):\n",
    "    def condition(self):\n",
    "        return self.predicate.condition(*self.parameters)\n",
    "    def effect(self):\n",
    "        return self.predicate.effect(*self.parameters)\n",
    "    def neg(self):\n",
    "        return GroundedPredicate(self.predicate.neg(), self.parameters)"
   ]
  },
  {
   "cell_type": "code",
   "execution_count": 8,
   "metadata": {
    "collapsed": false
   },
   "outputs": [],
   "source": [
    "def Action(name, parameters=(), preconditions=(), effects=(),\n",
    "           unique=False, no_permute=False):\n",
    "    return pyddl.Action(name=name,\n",
    "                        parameters=tuple(parameters),\n",
    "                        preconditions=sum((p.condition() for p in preconditions), ()),\n",
    "                        effects=sum((e.effect() for e in effects), ()),\n",
    "                        unique=unique, no_permute=no_permute)"
   ]
  },
  {
   "cell_type": "code",
   "execution_count": 9,
   "metadata": {
    "collapsed": false
   },
   "outputs": [],
   "source": [
    "def Problem(domain, objects, init=(), goal=()):\n",
    "    return pyddl.Problem(domain=domain,\n",
    "                         objects=objects,\n",
    "                         init=sum((i.condition() for i in init), ()),\n",
    "                         goal=sum((g.condition() for g in goal), ()))"
   ]
  }
 ],
 "metadata": {
  "kernelspec": {
   "display_name": "Python [conda root]",
   "language": "python",
   "name": "conda-root-py"
  },
  "language_info": {
   "codemirror_mode": {
    "name": "ipython",
    "version": 3
   },
   "file_extension": ".py",
   "mimetype": "text/x-python",
   "name": "python",
   "nbconvert_exporter": "python",
   "pygments_lexer": "ipython3",
   "version": "3.5.2"
  }
 },
 "nbformat": 4,
 "nbformat_minor": 1
}
