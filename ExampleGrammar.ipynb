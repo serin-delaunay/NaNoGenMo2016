{
 "cells": [
  {
   "cell_type": "code",
   "execution_count": 1,
   "metadata": {
    "collapsed": true
   },
   "outputs": [],
   "source": [
    "from Grammar import Grammar"
   ]
  },
  {
   "cell_type": "code",
   "execution_count": 2,
   "metadata": {
    "collapsed": true
   },
   "outputs": [],
   "source": [
    "g = Grammar({\n",
    "     'story':['<sentence>',\n",
    "              ('<story> <sentence>',9.0)],\n",
    "     'sentence': ['<noun_phrase> <verb_phrase>.'],\n",
    "     'noun_phrase':['<article> <determined_noun_phrase>',\n",
    "                    '<name>'],\n",
    "     'article':['the','a'],\n",
    "     'determined_noun_phrase':['<adjective> <determined_noun_phrase>',\n",
    "                               '<noun>'],\n",
    "     'adjective':['wonderful', 'terrible', 'barnacle-infested',\n",
    "                  'glistening', 'second-hand','brand new'],\n",
    "     'noun':['cat', 'bee', 'harpy', 'museum', 'schooner', 'postbox', 'doorbell', 'pokemon'],\n",
    "     'name':['Aerith', 'Bob', 'Macavity', 'Windle Poons', 'Klaatu', 'Boo'],\n",
    "     'verb_phrase':['<prep_verb_phrase> <preposition_phrase>',\n",
    "                    '<prep_verb_phrase>'],\n",
    "     'preposition_phrase':['near <noun_phrase>',\n",
    "                           'on <noun_phrase>',\n",
    "                           'with <noun_phrase>'],\n",
    "     'prep_verb_phrase':['<intransitive_verb>',\n",
    "                         '<transitive_verb> <noun_phrase>'],\n",
    "     'intransitive_verb':['sleeps', 'complains', 'flollops', 'pontificates', 'dies', 'jokes'],\n",
    "     'transitive_verb':['calls', 'convinces', 'trusts', 'licks']\n",
    "    })"
   ]
  },
  {
   "cell_type": "code",
   "execution_count": 3,
   "metadata": {
    "collapsed": false
   },
   "outputs": [
    {
     "data": {
      "text/plain": [
       "'Klaatu dies.'"
      ]
     },
     "execution_count": 3,
     "metadata": {},
     "output_type": "execute_result"
    }
   ],
   "source": [
    "g.generate('<story>')"
   ]
  }
 ],
 "metadata": {
  "kernelspec": {
   "display_name": "Python [conda root]",
   "language": "python",
   "name": "conda-root-py"
  },
  "language_info": {
   "codemirror_mode": {
    "name": "ipython",
    "version": 3
   },
   "file_extension": ".py",
   "mimetype": "text/x-python",
   "name": "python",
   "nbconvert_exporter": "python",
   "pygments_lexer": "ipython3",
   "version": "3.5.2"
  }
 },
 "nbformat": 4,
 "nbformat_minor": 1
}
