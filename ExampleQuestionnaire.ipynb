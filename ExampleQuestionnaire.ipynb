{
 "cells": [
  {
   "cell_type": "code",
   "execution_count": 1,
   "metadata": {
    "collapsed": true
   },
   "outputs": [],
   "source": [
    "import Questions"
   ]
  },
  {
   "cell_type": "code",
   "execution_count": 2,
   "metadata": {
    "collapsed": false
   },
   "outputs": [
    {
     "name": "stdout",
     "output_type": "stream",
     "text": [
      "('What is your favourite moon?', ['Dysnomia', 'Ariel'])\n"
     ]
    }
   ],
   "source": [
    "print(Questions.questions[-1].instantiate(2))"
   ]
  },
  {
   "cell_type": "code",
   "execution_count": 3,
   "metadata": {
    "collapsed": false
   },
   "outputs": [
    {
     "name": "stdout",
     "output_type": "stream",
     "text": [
      "In what kind of room do you usually eat?\n",
      "  The conference room\n",
      "  A pantry\n",
      "What is your current occupation?\n",
      "  Automotive and watercraft service attendant\n",
      "  Mail clerk\n",
      "What is your favourite TV show?\n",
      "  Julie\n",
      "  Donny & Marie\n",
      "What is your favourite cheese, curd, or fermented dairy product?\n",
      "  Rebruchon\n",
      "  Morlâc\n",
      "What is your favourite colour?\n",
      "  Light neon green\n",
      "  Rust orange\n",
      "What is your favourite dinosaur?\n",
      "  Baryonyx\n",
      "  Deinocheirus\n",
      "What is your favourite planet?\n",
      "  Saturn\n",
      "  Neptune\n",
      "What is your favourite prime number?\n",
      "  2473\n",
      "  379\n",
      "What is your favourite type of sandwich?\n",
      "  Lobster roll\n",
      "  Bánh mì\n",
      "What is your favourite vegetable?\n",
      "  Spaghetti squash\n",
      "  Celeriac\n",
      "What is your given name?\n",
      "  Thomas\n",
      "  Brady\n",
      "What is your honorific and family name?\n",
      "  Ms Thomas-Lie\n",
      "  Ms Johannesen-White\n",
      "What is your religion?\n",
      "  Buddhism\n",
      "  Christianity\n",
      "Who is your favourite author?\n",
      "  Larkin\n",
      "  Foucault\n",
      "Who was the manufacturer of your first car?\n",
      "  Kia\n",
      "  Cadillac\n"
     ]
    }
   ],
   "source": [
    "for q,(a1,a2) in sorted(Questions.question_set(Questions.questions, 15)):\n",
    "    print(q)\n",
    "    print('  '+a1)\n",
    "    print('  '+a2)"
   ]
  },
  {
   "cell_type": "code",
   "execution_count": 4,
   "metadata": {
    "collapsed": false
   },
   "outputs": [
    {
     "name": "stdout",
     "output_type": "stream",
     "text": [
      "Mr Oliver Simmons-Hernandez II (she/her/her/hers/herself)\n",
      "Mx Kaleb Oddrun Garcia (they/them/their/theirs/themself)\n",
      "Mx Kimberly Ramos (ne/nem/nir/nirs/nemself)\n",
      "Ms Dominic Colby Moreno-Green (she/her/her/hers/herself)\n",
      "Reverend Professor Kelsey Ramos IV (he/him/his/his/himself)\n",
      "Mr Ascensión Ingebjørg Fosse-Ahmad M.D (he/him/his/his/himself)\n",
      "Miss Angel Hope Pascual-Scott (zie/zim/zir/zirs/zirself)\n",
      "The Rt. Worshipfull Cristóbal Myers (zie/zim/zir/zirs/zirself)\n",
      "Miss Payton Alstad (they/them/their/theirs/themself)\n",
      "Mx Delaney Gage Cortés (they/them/their/theirs/themself)\n",
      "The Worshipful the Mayor Jessica Russell (he/him/his/his/himself)\n",
      "Mr Cirilo Ibáñez-Fernández DO (he/him/his/his/himself)\n",
      "Councillor Jacinto Isabel Bailey (xe/xem/xyr/xyrs/xemself)\n",
      "Mrs Brage Gomez-Walker (fi/fil/fil/fils/filself)\n",
      "Mx Makenzie Jonah Kvåle-Helgeland C.P.A (he/him/his/his/himself)\n",
      "The Worshipful the Mayor of St. Helens Kelsey Collins-Marshall R.N. (he/him/his/his/himself)\n",
      "Mr Jordan Justino Cole ITF (thon/thon/thons/thons/thonself)\n",
      "Mx Áurea Fiona Green-Hoem (he/him/his/his/himself)\n",
      "Mx Irena Stewart (che/chim/chis/chis/chimself)\n",
      "Mr Irene Bjørklund (they/them/their/theirs/themself)\n"
     ]
    }
   ],
   "source": [
    "for x in [Questions.qg.flatten('#title_full_name# (#pronouns#)') for i in range(20)]:\n",
    "    print(x)"
   ]
  }
 ],
 "metadata": {
  "kernelspec": {
   "display_name": "Python [conda root]",
   "language": "python",
   "name": "conda-root-py"
  },
  "language_info": {
   "codemirror_mode": {
    "name": "ipython",
    "version": 3
   },
   "file_extension": ".py",
   "mimetype": "text/x-python",
   "name": "python",
   "nbconvert_exporter": "python",
   "pygments_lexer": "ipython3",
   "version": "3.5.2"
  }
 },
 "nbformat": 4,
 "nbformat_minor": 1
}
